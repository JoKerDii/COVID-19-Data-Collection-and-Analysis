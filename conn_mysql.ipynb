{
 "cells": [
  {
   "cell_type": "markdown",
   "metadata": {},
   "source": [
    "# Store Scrapped Data to Database "
   ]
  },
  {
   "cell_type": "code",
   "execution_count": 1,
   "metadata": {},
   "outputs": [],
   "source": [
    "import pandas as pd\n",
    "import numpy as np"
   ]
  },
  {
   "cell_type": "code",
   "execution_count": 2,
   "metadata": {},
   "outputs": [
    {
     "data": {
      "text/html": [
       "<div>\n",
       "<style scoped>\n",
       "    .dataframe tbody tr th:only-of-type {\n",
       "        vertical-align: middle;\n",
       "    }\n",
       "\n",
       "    .dataframe tbody tr th {\n",
       "        vertical-align: top;\n",
       "    }\n",
       "\n",
       "    .dataframe thead th {\n",
       "        text-align: right;\n",
       "    }\n",
       "</style>\n",
       "<table border=\"1\" class=\"dataframe\">\n",
       "  <thead>\n",
       "    <tr style=\"text-align: right;\">\n",
       "      <th></th>\n",
       "      <th>county</th>\n",
       "      <th>state</th>\n",
       "      <th># total covid cases</th>\n",
       "      <th># covid cases per 100k</th>\n",
       "      <th># covid deaths</th>\n",
       "    </tr>\n",
       "  </thead>\n",
       "  <tbody>\n",
       "    <tr>\n",
       "      <th>0</th>\n",
       "      <td>Autauga County</td>\n",
       "      <td>Alabama</td>\n",
       "      <td>15863</td>\n",
       "      <td>28393.205534</td>\n",
       "      <td>216</td>\n",
       "    </tr>\n",
       "    <tr>\n",
       "      <th>1</th>\n",
       "      <td>Baldwin County</td>\n",
       "      <td>Alabama</td>\n",
       "      <td>55862</td>\n",
       "      <td>25023.965883</td>\n",
       "      <td>681</td>\n",
       "    </tr>\n",
       "    <tr>\n",
       "      <th>2</th>\n",
       "      <td>Barbour County</td>\n",
       "      <td>Alabama</td>\n",
       "      <td>5681</td>\n",
       "      <td>23013.043831</td>\n",
       "      <td>98</td>\n",
       "    </tr>\n",
       "    <tr>\n",
       "      <th>3</th>\n",
       "      <td>Bibb County</td>\n",
       "      <td>Alabama</td>\n",
       "      <td>6457</td>\n",
       "      <td>28833.616147</td>\n",
       "      <td>105</td>\n",
       "    </tr>\n",
       "    <tr>\n",
       "      <th>4</th>\n",
       "      <td>Blount County</td>\n",
       "      <td>Alabama</td>\n",
       "      <td>15005</td>\n",
       "      <td>25948.535261</td>\n",
       "      <td>243</td>\n",
       "    </tr>\n",
       "    <tr>\n",
       "      <th>...</th>\n",
       "      <td>...</td>\n",
       "      <td>...</td>\n",
       "      <td>...</td>\n",
       "      <td>...</td>\n",
       "      <td>...</td>\n",
       "    </tr>\n",
       "    <tr>\n",
       "      <th>64</th>\n",
       "      <td>Washington County</td>\n",
       "      <td>Alabama</td>\n",
       "      <td>3736</td>\n",
       "      <td>22883.743722</td>\n",
       "      <td>59</td>\n",
       "    </tr>\n",
       "    <tr>\n",
       "      <th>65</th>\n",
       "      <td>Wilcox County</td>\n",
       "      <td>Alabama</td>\n",
       "      <td>2892</td>\n",
       "      <td>27880.073267</td>\n",
       "      <td>46</td>\n",
       "    </tr>\n",
       "    <tr>\n",
       "      <th>66</th>\n",
       "      <td>Winston County</td>\n",
       "      <td>Alabama</td>\n",
       "      <td>7576</td>\n",
       "      <td>32062.296331</td>\n",
       "      <td>131</td>\n",
       "    </tr>\n",
       "    <tr>\n",
       "      <th>67</th>\n",
       "      <td>Aleutians East Borough</td>\n",
       "      <td>Alaska</td>\n",
       "      <td>608</td>\n",
       "      <td>18219.958046</td>\n",
       "      <td>0</td>\n",
       "    </tr>\n",
       "    <tr>\n",
       "      <th>68</th>\n",
       "      <td>Aleutians West Census Area</td>\n",
       "      <td>Alaska</td>\n",
       "      <td>865</td>\n",
       "      <td>15353.212638</td>\n",
       "      <td>2</td>\n",
       "    </tr>\n",
       "  </tbody>\n",
       "</table>\n",
       "<p>69 rows × 5 columns</p>\n",
       "</div>"
      ],
      "text/plain": [
       "                        county    state  # total covid cases  \\\n",
       "0               Autauga County  Alabama                15863   \n",
       "1               Baldwin County  Alabama                55862   \n",
       "2               Barbour County  Alabama                 5681   \n",
       "3                  Bibb County  Alabama                 6457   \n",
       "4                Blount County  Alabama                15005   \n",
       "..                         ...      ...                  ...   \n",
       "64           Washington County  Alabama                 3736   \n",
       "65               Wilcox County  Alabama                 2892   \n",
       "66              Winston County  Alabama                 7576   \n",
       "67      Aleutians East Borough   Alaska                  608   \n",
       "68  Aleutians West Census Area   Alaska                  865   \n",
       "\n",
       "    # covid cases per 100k  # covid deaths  \n",
       "0             28393.205534             216  \n",
       "1             25023.965883             681  \n",
       "2             23013.043831              98  \n",
       "3             28833.616147             105  \n",
       "4             25948.535261             243  \n",
       "..                     ...             ...  \n",
       "64            22883.743722              59  \n",
       "65            27880.073267              46  \n",
       "66            32062.296331             131  \n",
       "67            18219.958046               0  \n",
       "68            15353.212638               2  \n",
       "\n",
       "[69 rows x 5 columns]"
      ]
     },
     "execution_count": 2,
     "metadata": {},
     "output_type": "execute_result"
    }
   ],
   "source": [
    "covid_df = pd.read_csv('./combined_data/covid_df.csv')\n",
    "covid_df.head(69)"
   ]
  },
  {
   "cell_type": "code",
   "execution_count": 3,
   "metadata": {},
   "outputs": [
    {
     "data": {
      "text/plain": [
       "Index(['county', 'state', '# total covid cases', '# covid cases per 100k',\n",
       "       '# covid deaths'],\n",
       "      dtype='object')"
      ]
     },
     "execution_count": 3,
     "metadata": {},
     "output_type": "execute_result"
    }
   ],
   "source": [
    "covid_df.columns"
   ]
  },
  {
   "cell_type": "code",
   "execution_count": 4,
   "metadata": {},
   "outputs": [
    {
     "data": {
      "text/plain": [
       "county                     object\n",
       "state                      object\n",
       "# total covid cases         int64\n",
       "# covid cases per 100k    float64\n",
       "# covid deaths              int64\n",
       "dtype: object"
      ]
     },
     "execution_count": 4,
     "metadata": {},
     "output_type": "execute_result"
    }
   ],
   "source": [
    "covid_df.dtypes"
   ]
  },
  {
   "cell_type": "code",
   "execution_count": 5,
   "metadata": {},
   "outputs": [
    {
     "data": {
      "text/plain": [
       "county                    0\n",
       "state                     0\n",
       "# total covid cases       0\n",
       "# covid cases per 100k    0\n",
       "# covid deaths            0\n",
       "dtype: int64"
      ]
     },
     "execution_count": 5,
     "metadata": {},
     "output_type": "execute_result"
    }
   ],
   "source": [
    "covid_df.isna().sum()"
   ]
  },
  {
   "cell_type": "code",
   "execution_count": null,
   "metadata": {},
   "outputs": [],
   "source": [
    "# !pip install pymysql"
   ]
  },
  {
   "cell_type": "code",
   "execution_count": 6,
   "metadata": {},
   "outputs": [],
   "source": [
    "import pymysql"
   ]
  },
  {
   "cell_type": "code",
   "execution_count": 7,
   "metadata": {},
   "outputs": [],
   "source": [
    "insert_query = 'INSERT INTO state_data VALUES '\n",
    "\n",
    "for i in range(covid_df.shape[0]):\n",
    "    insert_query += '('\n",
    "    \n",
    "    for j in range(covid_df.shape[1]):\n",
    "        if covid_df[[covid_df.columns.values[j]]].dtypes[0] != object:\n",
    "            insert_query += str(covid_df[covid_df.columns.values[j]][i]) + ', '\n",
    "        else:\n",
    "            insert_query += '\"' + str(covid_df[covid_df.columns.values[j]][i]) + '\", '\n",
    "        \n",
    "    insert_query = insert_query[:-2] + '), '\n",
    "\n",
    "insert_query = insert_query[:-2] + ';'"
   ]
  },
  {
   "cell_type": "code",
   "execution_count": 8,
   "metadata": {},
   "outputs": [],
   "source": [
    "# insert_query"
   ]
  },
  {
   "cell_type": "code",
   "execution_count": 9,
   "metadata": {},
   "outputs": [],
   "source": [
    "conn = pymysql.connect(database = 'state_data', user = 'root')"
   ]
  },
  {
   "cell_type": "code",
   "execution_count": 10,
   "metadata": {},
   "outputs": [],
   "source": [
    "cursor = conn.cursor()"
   ]
  },
  {
   "cell_type": "code",
   "execution_count": 11,
   "metadata": {},
   "outputs": [
    {
     "data": {
      "text/plain": [
       "0"
      ]
     },
     "execution_count": 11,
     "metadata": {},
     "output_type": "execute_result"
    }
   ],
   "source": [
    "cursor.execute('SELECT countyName FROM state_data;')"
   ]
  },
  {
   "cell_type": "code",
   "execution_count": 12,
   "metadata": {},
   "outputs": [
    {
     "data": {
      "text/plain": [
       "3118"
      ]
     },
     "execution_count": 12,
     "metadata": {},
     "output_type": "execute_result"
    }
   ],
   "source": [
    "cursor.execute(insert_query)\n",
    "# cursor.execute(\"INSERT INTO state_data VALUES (15863, 28393.20553437505, 216,'Autauga', 'Alabama');\")"
   ]
  },
  {
   "cell_type": "code",
   "execution_count": 13,
   "metadata": {},
   "outputs": [],
   "source": [
    "conn.commit()"
   ]
  },
  {
   "cell_type": "code",
   "execution_count": 14,
   "metadata": {},
   "outputs": [],
   "source": [
    "conn.close()"
   ]
  }
 ],
 "metadata": {
  "interpreter": {
   "hash": "6136f57e9522e1f7c9a1d00a6950a9c42424b667ef418888919cda0b3f236728"
  },
  "kernelspec": {
   "display_name": "Python 3.8.8 ('base')",
   "language": "python",
   "name": "python3"
  },
  "language_info": {
   "codemirror_mode": {
    "name": "ipython",
    "version": 3
   },
   "file_extension": ".py",
   "mimetype": "text/x-python",
   "name": "python",
   "nbconvert_exporter": "python",
   "pygments_lexer": "ipython3",
   "version": "3.8.8"
  },
  "orig_nbformat": 4
 },
 "nbformat": 4,
 "nbformat_minor": 2
}
